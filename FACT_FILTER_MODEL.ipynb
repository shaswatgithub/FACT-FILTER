{
  "cells": [
    {
      "cell_type": "markdown",
      "metadata": {
        "id": "view-in-github",
        "colab_type": "text"
      },
      "source": [
        "<a href=\"https://colab.research.google.com/github/shaswatgithub/FACT-FILTER/blob/main/FACT_FILTER_MODEL.ipynb\" target=\"_parent\"><img src=\"https://colab.research.google.com/assets/colab-badge.svg\" alt=\"Open In Colab\"/></a>"
      ]
    },
    {
      "cell_type": "code",
      "execution_count": null,
      "id": "67cb6620-8c3f-4f94-a989-6f04ad853fea",
      "metadata": {
        "id": "67cb6620-8c3f-4f94-a989-6f04ad853fea",
        "outputId": "95f6cf60-b9c4-466d-98b8-357ef1938750"
      },
      "outputs": [
        {
          "name": "stdout",
          "output_type": "stream",
          "text": [
            "Requirement already satisfied: pandas in c:\\users\\nitis\\appdata\\local\\programs\\python\\python312\\lib\\site-packages (2.2.2)\n",
            "Requirement already satisfied: numpy in c:\\users\\nitis\\appdata\\local\\programs\\python\\python312\\lib\\site-packages (2.0.0)\n",
            "Requirement already satisfied: scikit-learn in c:\\users\\nitis\\appdata\\local\\programs\\python\\python312\\lib\\site-packages (1.5.0)\n",
            "Requirement already satisfied: nltk in c:\\users\\nitis\\appdata\\local\\programs\\python\\python312\\lib\\site-packages (3.8.1)\n",
            "Requirement already satisfied: python-dateutil>=2.8.2 in c:\\users\\nitis\\appdata\\local\\programs\\python\\python312\\lib\\site-packages (from pandas) (2.9.0.post0)\n",
            "Requirement already satisfied: pytz>=2020.1 in c:\\users\\nitis\\appdata\\local\\programs\\python\\python312\\lib\\site-packages (from pandas) (2024.1)\n",
            "Requirement already satisfied: tzdata>=2022.7 in c:\\users\\nitis\\appdata\\local\\programs\\python\\python312\\lib\\site-packages (from pandas) (2024.1)\n",
            "Requirement already satisfied: scipy>=1.6.0 in c:\\users\\nitis\\appdata\\local\\programs\\python\\python312\\lib\\site-packages (from scikit-learn) (1.13.1)\n",
            "Requirement already satisfied: joblib>=1.2.0 in c:\\users\\nitis\\appdata\\local\\programs\\python\\python312\\lib\\site-packages (from scikit-learn) (1.4.2)\n",
            "Requirement already satisfied: threadpoolctl>=3.1.0 in c:\\users\\nitis\\appdata\\local\\programs\\python\\python312\\lib\\site-packages (from scikit-learn) (3.5.0)\n",
            "Requirement already satisfied: click in c:\\users\\nitis\\appdata\\local\\programs\\python\\python312\\lib\\site-packages (from nltk) (8.1.7)\n",
            "Requirement already satisfied: regex>=2021.8.3 in c:\\users\\nitis\\appdata\\local\\programs\\python\\python312\\lib\\site-packages (from nltk) (2024.5.15)\n",
            "Requirement already satisfied: tqdm in c:\\users\\nitis\\appdata\\local\\programs\\python\\python312\\lib\\site-packages (from nltk) (4.66.4)\n",
            "Requirement already satisfied: six>=1.5 in c:\\users\\nitis\\appdata\\local\\programs\\python\\python312\\lib\\site-packages (from python-dateutil>=2.8.2->pandas) (1.16.0)\n",
            "Requirement already satisfied: colorama in c:\\users\\nitis\\appdata\\local\\programs\\python\\python312\\lib\\site-packages (from click->nltk) (0.4.6)\n",
            "Note: you may need to restart the kernel to use updated packages.\n"
          ]
        }
      ],
      "source": [
        "pip install pandas numpy scikit-learn nltk"
      ]
    },
    {
      "cell_type": "code",
      "execution_count": null,
      "id": "e4b702a4-56aa-433f-80ac-f160c5f50b13",
      "metadata": {
        "id": "e4b702a4-56aa-433f-80ac-f160c5f50b13",
        "outputId": "92294057-8633-4891-9c75-480d07a744bd"
      },
      "outputs": [
        {
          "name": "stdout",
          "output_type": "stream",
          "text": [
            "Requirement already satisfied: pip in c:\\users\\nitis\\appdata\\local\\programs\\python\\python312\\lib\\site-packages (24.1.1)\n",
            "Note: you may need to restart the kernel to use updated packages.\n"
          ]
        }
      ],
      "source": [
        "pip install --upgrade pip"
      ]
    },
    {
      "cell_type": "markdown",
      "id": "206840af-be9e-4e7b-96e0-2c1babed0b2f",
      "metadata": {
        "id": "206840af-be9e-4e7b-96e0-2c1babed0b2f"
      },
      "source": [
        "#### Task 1: Data Loading and Exploring"
      ]
    },
    {
      "cell_type": "code",
      "execution_count": null,
      "id": "4df3db87-b6d9-4523-a0a7-86d7eedac6b0",
      "metadata": {
        "id": "4df3db87-b6d9-4523-a0a7-86d7eedac6b0",
        "outputId": "456513cc-e9e9-44d2-ee6b-b7c547335bb0"
      },
      "outputs": [
        {
          "name": "stdout",
          "output_type": "stream",
          "text": [
            "Fake News DataFrame:\n",
            "                                               title  \\\n",
            "0   Donald Trump Sends Out Embarrassing New Year’...   \n",
            "1   Drunk Bragging Trump Staffer Started Russian ...   \n",
            "2   Sheriff David Clarke Becomes An Internet Joke...   \n",
            "3   Trump Is So Obsessed He Even Has Obama’s Name...   \n",
            "4   Pope Francis Just Called Out Donald Trump Dur...   \n",
            "\n",
            "                                                text subject  \\\n",
            "0  Donald Trump just couldn t wish all Americans ...    News   \n",
            "1  House Intelligence Committee Chairman Devin Nu...    News   \n",
            "2  On Friday, it was revealed that former Milwauk...    News   \n",
            "3  On Christmas day, Donald Trump announced that ...    News   \n",
            "4  Pope Francis used his annual Christmas Day mes...    News   \n",
            "\n",
            "                date  \n",
            "0  December 31, 2017  \n",
            "1  December 31, 2017  \n",
            "2  December 30, 2017  \n",
            "3  December 29, 2017  \n",
            "4  December 25, 2017  \n",
            "\n",
            "True News DataFrame:\n",
            "                                               title  \\\n",
            "0  As U.S. budget fight looms, Republicans flip t...   \n",
            "1  U.S. military to accept transgender recruits o...   \n",
            "2  Senior U.S. Republican senator: 'Let Mr. Muell...   \n",
            "3  FBI Russia probe helped by Australian diplomat...   \n",
            "4  Trump wants Postal Service to charge 'much mor...   \n",
            "\n",
            "                                                text       subject  \\\n",
            "0  WASHINGTON (Reuters) - The head of a conservat...  politicsNews   \n",
            "1  WASHINGTON (Reuters) - Transgender people will...  politicsNews   \n",
            "2  WASHINGTON (Reuters) - The special counsel inv...  politicsNews   \n",
            "3  WASHINGTON (Reuters) - Trump campaign adviser ...  politicsNews   \n",
            "4  SEATTLE/WASHINGTON (Reuters) - President Donal...  politicsNews   \n",
            "\n",
            "                 date  \n",
            "0  December 31, 2017   \n",
            "1  December 29, 2017   \n",
            "2  December 31, 2017   \n",
            "3  December 30, 2017   \n",
            "4  December 29, 2017   \n",
            "\n",
            "Fake News Word Count Statistics:\n",
            "count    23481.000000\n",
            "mean       423.197905\n",
            "std        408.388890\n",
            "min          0.000000\n",
            "25%        240.000000\n",
            "50%        363.000000\n",
            "75%        506.000000\n",
            "max       8135.000000\n",
            "Name: word_count, dtype: float64\n",
            "\n",
            "True News Word Count Statistics:\n",
            "count    21417.000000\n",
            "mean       385.640099\n",
            "std        274.006204\n",
            "min          0.000000\n",
            "25%        148.000000\n",
            "50%        359.000000\n",
            "75%        525.000000\n",
            "max       5172.000000\n",
            "Name: word_count, dtype: float64\n"
          ]
        }
      ],
      "source": [
        "import pandas as pd\n",
        "\n",
        "# Load the CSV files\n",
        "fake_df = pd.read_csv('fake.csv')\n",
        "true_df = pd.read_csv('true.csv')\n",
        "\n",
        "# Display the first few rows of each dataframe\n",
        "print(\"Fake News DataFrame:\")\n",
        "print(fake_df.head())\n",
        "\n",
        "print(\"\\nTrue News DataFrame:\")\n",
        "print(true_df.head())\n",
        "\n",
        "# Example analysis: Word count\n",
        "fake_df['word_count'] = fake_df['text'].apply(lambda x: len(str(x).split()))\n",
        "true_df['word_count'] = true_df['text'].apply(lambda x: len(str(x).split()))\n",
        "\n",
        "# Display basic statistics\n",
        "print(\"\\nFake News Word Count Statistics:\")\n",
        "print(fake_df['word_count'].describe())\n",
        "\n",
        "print(\"\\nTrue News Word Count Statistics:\")\n",
        "print(true_df['word_count'].describe())\n"
      ]
    },
    {
      "cell_type": "markdown",
      "id": "717d85ab-a636-40a9-92c9-a908d2b8e669",
      "metadata": {
        "id": "717d85ab-a636-40a9-92c9-a908d2b8e669"
      },
      "source": [
        "#### Task 2: Data Preprocessing"
      ]
    },
    {
      "cell_type": "markdown",
      "id": "6503b8fc-a903-44c5-bb5a-0b8728e67400",
      "metadata": {
        "id": "6503b8fc-a903-44c5-bb5a-0b8728e67400"
      },
      "source": [
        "##### a) and b) Data Cleaning and Missing Values Handling"
      ]
    },
    {
      "cell_type": "code",
      "execution_count": null,
      "id": "7c75d988-c527-48b2-9827-19573948f356",
      "metadata": {
        "id": "7c75d988-c527-48b2-9827-19573948f356"
      },
      "outputs": [],
      "source": [
        "import pandas as pd\n",
        "import re\n",
        "\n",
        "\n",
        "# Remove None values\n",
        "fake_df.dropna(subset=['text'], inplace=True)\n",
        "true_df.dropna(subset=['text'], inplace=True)\n",
        "\n",
        "# Convert to lowercase\n",
        "fake_df['text'] = fake_df['text'].str.lower()\n",
        "true_df['text'] = true_df['text'].str.lower()\n",
        "\n",
        "# Remove punctuation\n",
        "fake_df['text'] = fake_df['text'].apply(lambda x: re.sub(r'[^\\w\\s]', '', x))\n",
        "true_df['text'] = true_df['text'].apply(lambda x: re.sub(r'[^\\w\\s]', '', x))\n"
      ]
    },
    {
      "cell_type": "markdown",
      "id": "b7901fa8-7c5a-43f2-80be-131938cbabe7",
      "metadata": {
        "id": "b7901fa8-7c5a-43f2-80be-131938cbabe7"
      },
      "source": [
        "##### c) Data tokenization"
      ]
    },
    {
      "cell_type": "code",
      "execution_count": null,
      "id": "6b633a3d-e4e3-4fdb-b0e3-f473a188c44c",
      "metadata": {
        "id": "6b633a3d-e4e3-4fdb-b0e3-f473a188c44c"
      },
      "outputs": [],
      "source": [
        "from nltk.tokenize import word_tokenize\n",
        "\n",
        "fake_df['tokens'] = fake_df['text'].apply(word_tokenize)\n",
        "true_df['tokens'] = true_df['text'].apply(word_tokenize)\n"
      ]
    },
    {
      "cell_type": "markdown",
      "id": "a293e96b-6e30-465d-933a-aa92fbe7cea6",
      "metadata": {
        "id": "a293e96b-6e30-465d-933a-aa92fbe7cea6"
      },
      "source": [
        "##### d) Stop Word Removal"
      ]
    },
    {
      "cell_type": "code",
      "execution_count": null,
      "id": "a9a20c1e-e6d5-41a0-ace4-ffc4d681116b",
      "metadata": {
        "id": "a9a20c1e-e6d5-41a0-ace4-ffc4d681116b"
      },
      "outputs": [],
      "source": [
        "from nltk.corpus import stopwords\n",
        "\n",
        "stop_words = set(stopwords.words('english'))\n",
        "\n",
        "fake_df['tokens'] = fake_df['tokens'].apply(lambda x: [word for word in x if word not in stop_words])\n",
        "true_df['tokens'] = true_df['tokens'].apply(lambda x: [word for word in x if word not in stop_words])\n"
      ]
    },
    {
      "cell_type": "markdown",
      "id": "824ce525-8fff-4c44-b67c-8b3687f770a0",
      "metadata": {
        "id": "824ce525-8fff-4c44-b67c-8b3687f770a0"
      },
      "source": [
        "##### e) Apply Stemming and Lemmatization"
      ]
    },
    {
      "cell_type": "code",
      "execution_count": null,
      "id": "df365663-0ea2-4fc5-b98e-f7e0726c08db",
      "metadata": {
        "id": "df365663-0ea2-4fc5-b98e-f7e0726c08db",
        "outputId": "28764a89-3e45-400c-a5d0-882e33ec64d8"
      },
      "outputs": [
        {
          "name": "stderr",
          "output_type": "stream",
          "text": [
            "[nltk_data] Downloading package wordnet to\n",
            "[nltk_data]     C:\\Users\\nitis\\AppData\\Roaming\\nltk_data...\n"
          ]
        },
        {
          "data": {
            "text/plain": [
              "True"
            ]
          },
          "execution_count": 16,
          "metadata": {},
          "output_type": "execute_result"
        }
      ],
      "source": [
        "import nltk\n",
        "nltk.download('wordnet')\n"
      ]
    },
    {
      "cell_type": "code",
      "execution_count": null,
      "id": "f102c2ab-d36b-450d-877f-a19e9fd511b6",
      "metadata": {
        "id": "f102c2ab-d36b-450d-877f-a19e9fd511b6"
      },
      "outputs": [],
      "source": [
        "from nltk.stem import PorterStemmer, WordNetLemmatizer\n",
        "\n",
        "stemmer = PorterStemmer()\n",
        "lemmatizer = WordNetLemmatizer()\n",
        "\n",
        "fake_df['stemmed'] = fake_df['tokens'].apply(lambda x: [stemmer.stem(word) for word in x])\n",
        "true_df['stemmed'] = true_df['tokens'].apply(lambda x: [stemmer.stem(word) for word in x])\n",
        "\n",
        "fake_df['lemmatized'] = fake_df['tokens'].apply(lambda x: [lemmatizer.lemmatize(word) for word in x])\n",
        "true_df['lemmatized'] = true_df['tokens'].apply(lambda x: [lemmatizer.lemmatize(word) for word in x])\n"
      ]
    },
    {
      "cell_type": "markdown",
      "id": "0a4b58a7-b7db-44ad-90bb-34c62956f396",
      "metadata": {
        "id": "0a4b58a7-b7db-44ad-90bb-34c62956f396"
      },
      "source": [
        "##### f) Data Vectorization using TF-IDF\n"
      ]
    },
    {
      "cell_type": "code",
      "execution_count": null,
      "id": "9c32afdf-42a1-46b1-824f-cae6ab38f6fb",
      "metadata": {
        "id": "9c32afdf-42a1-46b1-824f-cae6ab38f6fb"
      },
      "outputs": [],
      "source": [
        "from sklearn.feature_extraction.text import TfidfVectorizer\n",
        "\n",
        "# Join tokens back into string for TF-IDF\n",
        "fake_df['lemmatized_text'] = fake_df['lemmatized'].apply(lambda x: ' '.join(x))\n",
        "true_df['lemmatized_text'] = true_df['lemmatized'].apply(lambda x: ' '.join(x))\n",
        "\n",
        "vectorizer = TfidfVectorizer(max_features=10000, max_df=0.95, min_df=2)\n",
        "\n",
        "fake_tfidf_matrix = vectorizer.fit_transform(fake_df['lemmatized_text'])\n",
        "true_tfidf_matrix = vectorizer.transform(true_df['lemmatized_text'])\n",
        "\n",
        "\n",
        "print(vectorizer.get_feature_names_out())\n",
        "\n",
        "# Initially I tried to fit the vectorizer separately on both dataframes,resulting in very large and different vocabulary sizes,\n",
        "#leading to a MemoryError.\n",
        "\n",
        "# This approach limits the vocabulary size with parameters (max_features, max_df, min_df)\n",
        "# and avoids converting the sparse matrix to a dense array, reducing memory usage."
      ]
    },
    {
      "cell_type": "markdown",
      "id": "5dc2cb4d-80b1-425f-a4f3-dd118d865eec",
      "metadata": {
        "id": "5dc2cb4d-80b1-425f-a4f3-dd118d865eec"
      },
      "source": [
        "#### Task 3: Model Training"
      ]
    },
    {
      "cell_type": "markdown",
      "id": "b7878c47-2793-4e46-b2e5-8a09f229a469",
      "metadata": {
        "id": "b7878c47-2793-4e46-b2e5-8a09f229a469"
      },
      "source": [
        "##### a) Train various Machine Learning Models - Logistic Regression, Random Forest, Decision Tree, Gradient Boosting and Hyperparameters tuning"
      ]
    },
    {
      "cell_type": "markdown",
      "id": "549c6570-07c9-4e35-aeb1-43dfb41c98ba",
      "metadata": {
        "id": "549c6570-07c9-4e35-aeb1-43dfb41c98ba"
      },
      "source": [
        "##### Step i) Split Data into Training and Test Sets"
      ]
    },
    {
      "cell_type": "code",
      "execution_count": null,
      "id": "3da71e40-b3bc-4dbd-8b97-93d9210219f2",
      "metadata": {
        "id": "3da71e40-b3bc-4dbd-8b97-93d9210219f2"
      },
      "outputs": [],
      "source": [
        "from sklearn.model_selection import train_test_split\n",
        "\n",
        "# Combine fake and true data\n",
        "fake_df['label'] = 0\n",
        "true_df['label'] = 1\n",
        "combined_df = pd.concat([fake_df, true_df])\n",
        "\n",
        "X = combined_df['lemmatized_text']\n",
        "y = combined_df['label']\n",
        "\n",
        "X_train, X_test, y_train, y_test = train_test_split(X, y, test_size=0.2, random_state=42, stratify=y)\n"
      ]
    },
    {
      "cell_type": "markdown",
      "id": "70ea3a74-749e-4e8f-beb6-88b65b824a54",
      "metadata": {
        "id": "70ea3a74-749e-4e8f-beb6-88b65b824a54"
      },
      "source": [
        "##### Step ii) Vectorize text data"
      ]
    },
    {
      "cell_type": "code",
      "execution_count": null,
      "id": "428649bd-fc1d-4b87-9bda-0a7af1cdb28c",
      "metadata": {
        "id": "428649bd-fc1d-4b87-9bda-0a7af1cdb28c"
      },
      "outputs": [],
      "source": [
        "# Fit the vectorizer on the training data and transform both train and test sets\n",
        "X_train_tfidf = vectorizer.fit_transform(X_train)\n",
        "X_test_tfidf = vectorizer.transform(X_test)\n"
      ]
    },
    {
      "cell_type": "markdown",
      "id": "81578d4d-001f-48b6-a28d-825625d0221c",
      "metadata": {
        "id": "81578d4d-001f-48b6-a28d-825625d0221c"
      },
      "source": [
        "##### Step iii) Train and Evaluate Models"
      ]
    },
    {
      "cell_type": "code",
      "execution_count": null,
      "id": "060ba1c4-6983-4150-9fbf-525eaf18c16a",
      "metadata": {
        "id": "060ba1c4-6983-4150-9fbf-525eaf18c16a"
      },
      "outputs": [],
      "source": [
        "from sklearn.linear_model import LogisticRegression\n",
        "from sklearn.ensemble import RandomForestClassifier, GradientBoostingClassifier\n",
        "from sklearn.tree import DecisionTreeClassifier\n",
        "from sklearn.model_selection import GridSearchCV\n",
        "from sklearn.metrics import classification_report"
      ]
    },
    {
      "cell_type": "code",
      "execution_count": null,
      "id": "afc66f39-4f18-424a-baa6-05dbd8de80c0",
      "metadata": {
        "id": "afc66f39-4f18-424a-baa6-05dbd8de80c0",
        "outputId": "82033174-f1d4-490c-b988-af533eaeff0c"
      },
      "outputs": [
        {
          "name": "stdout",
          "output_type": "stream",
          "text": [
            "Logistic Regression best parameters: {'C': 10}\n",
            "Logistic Regression classification report:\n",
            "              precision    recall  f1-score   support\n",
            "\n",
            "           0       0.99      0.99      0.99      4696\n",
            "           1       0.99      0.99      0.99      4284\n",
            "\n",
            "    accuracy                           0.99      8980\n",
            "   macro avg       0.99      0.99      0.99      8980\n",
            "weighted avg       0.99      0.99      0.99      8980\n",
            "\n"
          ]
        }
      ],
      "source": [
        "# Logistic Regression\n",
        "log_reg = LogisticRegression()\n",
        "log_reg_params = {'C': [0.1, 1, 10]}\n",
        "log_reg_grid = GridSearchCV(log_reg, log_reg_params, cv=5)\n",
        "log_reg_grid.fit(X_train_tfidf, y_train)\n",
        "log_reg_best = log_reg_grid.best_estimator_\n",
        "print(\"Logistic Regression best parameters:\", log_reg_grid.best_params_)\n",
        "print(\"Logistic Regression classification report:\")\n",
        "print(classification_report(y_test, log_reg_best.predict(X_test_tfidf)))\n"
      ]
    },
    {
      "cell_type": "code",
      "execution_count": null,
      "id": "f5fcbd9c-60f5-41e4-9eb0-db9ff47473df",
      "metadata": {
        "id": "f5fcbd9c-60f5-41e4-9eb0-db9ff47473df",
        "outputId": "063c039f-2ae5-46a6-88db-c15550934cbd"
      },
      "outputs": [
        {
          "name": "stdout",
          "output_type": "stream",
          "text": [
            "Random Forest best parameters: {'max_depth': None, 'n_estimators': 100}\n",
            "Random Forest classification report:\n",
            "              precision    recall  f1-score   support\n",
            "\n",
            "           0       1.00      1.00      1.00      4696\n",
            "           1       1.00      1.00      1.00      4284\n",
            "\n",
            "    accuracy                           1.00      8980\n",
            "   macro avg       1.00      1.00      1.00      8980\n",
            "weighted avg       1.00      1.00      1.00      8980\n",
            "\n"
          ]
        }
      ],
      "source": [
        "# Random Forest\n",
        "rf = RandomForestClassifier()\n",
        "rf_params = {'n_estimators': [50, 100, 200], 'max_depth': [None, 10, 20]}\n",
        "rf_grid = GridSearchCV(rf, rf_params, cv=5)\n",
        "rf_grid.fit(X_train_tfidf, y_train)\n",
        "rf_best = rf_grid.best_estimator_\n",
        "print(\"Random Forest best parameters:\", rf_grid.best_params_)\n",
        "print(\"Random Forest classification report:\")\n",
        "print(classification_report(y_test, rf_best.predict(X_test_tfidf)))\n"
      ]
    },
    {
      "cell_type": "code",
      "execution_count": null,
      "id": "85fcf63f-d57d-4edc-af73-9b3277b6f467",
      "metadata": {
        "id": "85fcf63f-d57d-4edc-af73-9b3277b6f467",
        "outputId": "ce9e3157-8655-4ecc-d861-de0c92d863a8"
      },
      "outputs": [
        {
          "name": "stdout",
          "output_type": "stream",
          "text": [
            "Decision Tree best parameters: {'max_depth': 10}\n",
            "Decision Tree classification report:\n",
            "              precision    recall  f1-score   support\n",
            "\n",
            "           0       1.00      0.99      1.00      4696\n",
            "           1       0.99      1.00      1.00      4284\n",
            "\n",
            "    accuracy                           1.00      8980\n",
            "   macro avg       1.00      1.00      1.00      8980\n",
            "weighted avg       1.00      1.00      1.00      8980\n",
            "\n"
          ]
        }
      ],
      "source": [
        "# Decision Tree\n",
        "dt = DecisionTreeClassifier()\n",
        "dt_params = {'max_depth': [None, 10, 20]}\n",
        "dt_grid = GridSearchCV(dt, dt_params, cv=5)\n",
        "dt_grid.fit(X_train_tfidf, y_train)\n",
        "dt_best = dt_grid.best_estimator_\n",
        "print(\"Decision Tree best parameters:\", dt_grid.best_params_)\n",
        "print(\"Decision Tree classification report:\")\n",
        "print(classification_report(y_test, dt_best.predict(X_test_tfidf)))\n"
      ]
    },
    {
      "cell_type": "code",
      "execution_count": null,
      "id": "82fd7f73-9aba-47c2-9155-08ced9bc85a7",
      "metadata": {
        "id": "82fd7f73-9aba-47c2-9155-08ced9bc85a7",
        "outputId": "93913c3c-dd4c-4f70-c64b-af0c64ebda8a"
      },
      "outputs": [
        {
          "name": "stdout",
          "output_type": "stream",
          "text": [
            "Gradient Boosting best parameters: {'n_estimators': 200, 'learning_rate': 0.1}\n",
            "Gradient Boosting classification report:\n",
            "              precision    recall  f1-score   support\n",
            "\n",
            "           0       1.00      1.00      1.00      4696\n",
            "           1       0.99      1.00      1.00      4284\n",
            "\n",
            "    accuracy                           1.00      8980\n",
            "   macro avg       1.00      1.00      1.00      8980\n",
            "weighted avg       1.00      1.00      1.00      8980\n",
            "\n"
          ]
        }
      ],
      "source": [
        "from sklearn.ensemble import GradientBoostingClassifier\n",
        "from sklearn.model_selection import RandomizedSearchCV\n",
        "from sklearn.metrics import classification_report\n",
        "import numpy as np\n",
        "\n",
        "# Define the parameter grid\n",
        "gb_params = {\n",
        "    'n_estimators': [50, 100, 200],\n",
        "    'learning_rate': [0.01, 0.1, 0.5]\n",
        "}\n",
        "\n",
        "# Initialize the model\n",
        "gb = GradientBoostingClassifier()\n",
        "\n",
        "# Use RandomizedSearchCV for hyperparameter tuning\n",
        "gb_random = RandomizedSearchCV(\n",
        "    estimator=gb,\n",
        "    param_distributions=gb_params,\n",
        "    n_iter=8,  # Number of parameter settings that are sampled\n",
        "    cv=2,       # Number of folds in cross-validation\n",
        "    n_jobs=-1,  # Use all available CPU cores\n",
        "    random_state=42\n",
        ")\n",
        "\n",
        "# Fit the model\n",
        "gb_random.fit(X_train_tfidf, y_train)\n",
        "\n",
        "# Get the best model\n",
        "gb_best = gb_random.best_estimator_\n",
        "\n",
        "# Print the best parameters and classification report\n",
        "print(\"Gradient Boosting best parameters:\", gb_random.best_params_)\n",
        "print(\"Gradient Boosting classification report:\")\n",
        "print(classification_report(y_test, gb_best.predict(X_test_tfidf)))\n"
      ]
    },
    {
      "cell_type": "markdown",
      "id": "ba3d802b-8a65-42a3-95cd-b68c524fb0a8",
      "metadata": {
        "id": "ba3d802b-8a65-42a3-95cd-b68c524fb0a8"
      },
      "source": [
        "#### Task 4) Model Evaluation\n",
        "#### Use all the appropriate metrics for evaluation and  Compare the performance of all models.\n"
      ]
    },
    {
      "cell_type": "markdown",
      "id": "4ee9510e-2608-4ab0-91ba-c3e0d4368103",
      "metadata": {
        "id": "4ee9510e-2608-4ab0-91ba-c3e0d4368103"
      },
      "source": [
        "##### To thoroughly evaluate the performance of our models, I'll use various metrics: accuracy, precision, recall, F1-score, ROC-AUC score, and confusion matrices."
      ]
    },
    {
      "cell_type": "code",
      "execution_count": null,
      "id": "f0367734-8376-4454-88cc-98d02a8f7d4e",
      "metadata": {
        "id": "f0367734-8376-4454-88cc-98d02a8f7d4e",
        "outputId": "1994c61b-e2a4-405f-c0e4-e17d54e9f56b"
      },
      "outputs": [
        {
          "name": "stdout",
          "output_type": "stream",
          "text": [
            "Requirement already satisfied: matplotlib in c:\\users\\nitis\\appdata\\local\\programs\\python\\python312\\lib\\site-packages (3.9.0)\n",
            "Requirement already satisfied: contourpy>=1.0.1 in c:\\users\\nitis\\appdata\\local\\programs\\python\\python312\\lib\\site-packages (from matplotlib) (1.2.1)\n",
            "Requirement already satisfied: cycler>=0.10 in c:\\users\\nitis\\appdata\\local\\programs\\python\\python312\\lib\\site-packages (from matplotlib) (0.12.1)\n",
            "Requirement already satisfied: fonttools>=4.22.0 in c:\\users\\nitis\\appdata\\local\\programs\\python\\python312\\lib\\site-packages (from matplotlib) (4.53.0)\n",
            "Requirement already satisfied: kiwisolver>=1.3.1 in c:\\users\\nitis\\appdata\\local\\programs\\python\\python312\\lib\\site-packages (from matplotlib) (1.4.5)\n",
            "Requirement already satisfied: numpy>=1.23 in c:\\users\\nitis\\appdata\\local\\programs\\python\\python312\\lib\\site-packages (from matplotlib) (2.0.0)\n",
            "Requirement already satisfied: packaging>=20.0 in c:\\users\\nitis\\appdata\\local\\programs\\python\\python312\\lib\\site-packages (from matplotlib) (24.1)\n",
            "Requirement already satisfied: pillow>=8 in c:\\users\\nitis\\appdata\\local\\programs\\python\\python312\\lib\\site-packages (from matplotlib) (10.4.0)\n",
            "Requirement already satisfied: pyparsing>=2.3.1 in c:\\users\\nitis\\appdata\\local\\programs\\python\\python312\\lib\\site-packages (from matplotlib) (3.1.2)\n",
            "Requirement already satisfied: python-dateutil>=2.7 in c:\\users\\nitis\\appdata\\local\\programs\\python\\python312\\lib\\site-packages (from matplotlib) (2.9.0.post0)\n",
            "Requirement already satisfied: six>=1.5 in c:\\users\\nitis\\appdata\\local\\programs\\python\\python312\\lib\\site-packages (from python-dateutil>=2.7->matplotlib) (1.16.0)\n",
            "Collecting seaborn\n",
            "  Downloading seaborn-0.13.2-py3-none-any.whl.metadata (5.4 kB)\n",
            "Requirement already satisfied: numpy!=1.24.0,>=1.20 in c:\\users\\nitis\\appdata\\local\\programs\\python\\python312\\lib\\site-packages (from seaborn) (2.0.0)\n",
            "Requirement already satisfied: pandas>=1.2 in c:\\users\\nitis\\appdata\\local\\programs\\python\\python312\\lib\\site-packages (from seaborn) (2.2.2)\n",
            "Requirement already satisfied: matplotlib!=3.6.1,>=3.4 in c:\\users\\nitis\\appdata\\local\\programs\\python\\python312\\lib\\site-packages (from seaborn) (3.9.0)\n",
            "Requirement already satisfied: contourpy>=1.0.1 in c:\\users\\nitis\\appdata\\local\\programs\\python\\python312\\lib\\site-packages (from matplotlib!=3.6.1,>=3.4->seaborn) (1.2.1)\n",
            "Requirement already satisfied: cycler>=0.10 in c:\\users\\nitis\\appdata\\local\\programs\\python\\python312\\lib\\site-packages (from matplotlib!=3.6.1,>=3.4->seaborn) (0.12.1)\n",
            "Requirement already satisfied: fonttools>=4.22.0 in c:\\users\\nitis\\appdata\\local\\programs\\python\\python312\\lib\\site-packages (from matplotlib!=3.6.1,>=3.4->seaborn) (4.53.0)\n",
            "Requirement already satisfied: kiwisolver>=1.3.1 in c:\\users\\nitis\\appdata\\local\\programs\\python\\python312\\lib\\site-packages (from matplotlib!=3.6.1,>=3.4->seaborn) (1.4.5)\n",
            "Requirement already satisfied: packaging>=20.0 in c:\\users\\nitis\\appdata\\local\\programs\\python\\python312\\lib\\site-packages (from matplotlib!=3.6.1,>=3.4->seaborn) (24.1)\n",
            "Requirement already satisfied: pillow>=8 in c:\\users\\nitis\\appdata\\local\\programs\\python\\python312\\lib\\site-packages (from matplotlib!=3.6.1,>=3.4->seaborn) (10.4.0)\n",
            "Requirement already satisfied: pyparsing>=2.3.1 in c:\\users\\nitis\\appdata\\local\\programs\\python\\python312\\lib\\site-packages (from matplotlib!=3.6.1,>=3.4->seaborn) (3.1.2)\n",
            "Requirement already satisfied: python-dateutil>=2.7 in c:\\users\\nitis\\appdata\\local\\programs\\python\\python312\\lib\\site-packages (from matplotlib!=3.6.1,>=3.4->seaborn) (2.9.0.post0)\n",
            "Requirement already satisfied: pytz>=2020.1 in c:\\users\\nitis\\appdata\\local\\programs\\python\\python312\\lib\\site-packages (from pandas>=1.2->seaborn) (2024.1)\n",
            "Requirement already satisfied: tzdata>=2022.7 in c:\\users\\nitis\\appdata\\local\\programs\\python\\python312\\lib\\site-packages (from pandas>=1.2->seaborn) (2024.1)\n",
            "Requirement already satisfied: six>=1.5 in c:\\users\\nitis\\appdata\\local\\programs\\python\\python312\\lib\\site-packages (from python-dateutil>=2.7->matplotlib!=3.6.1,>=3.4->seaborn) (1.16.0)\n",
            "Downloading seaborn-0.13.2-py3-none-any.whl (294 kB)\n",
            "   ---------------------------------------- 0.0/294.9 kB ? eta -:--:--\n",
            "   ------------ --------------------------- 92.2/294.9 kB 2.6 MB/s eta 0:00:01\n",
            "   -------------------------- ------------- 194.6/294.9 kB 2.9 MB/s eta 0:00:01\n",
            "   ---------------------------------------- 294.9/294.9 kB 3.0 MB/s eta 0:00:00\n",
            "Installing collected packages: seaborn\n",
            "Successfully installed seaborn-0.13.2\n"
          ]
        }
      ],
      "source": [
        "!pip install matplotlib\n",
        "!pip install seaborn"
      ]
    },
    {
      "cell_type": "code",
      "execution_count": null,
      "id": "469cde5e-d717-4890-b4d9-31fd8d5866da",
      "metadata": {
        "id": "469cde5e-d717-4890-b4d9-31fd8d5866da",
        "outputId": "bf7ff27d-6757-4788-c88e-69e16a863d66"
      },
      "outputs": [
        {
          "name": "stdout",
          "output_type": "stream",
          "text": [
            "Model: Logistic Regression\n",
            "Accuracy: 0.9938\n",
            "Precision: 0.9925\n",
            "Recall: 0.9944\n",
            "F1-score: 0.9935\n",
            "ROC-AUC: 0.9998\n",
            "Confusion Matrix:\n",
            "[[4664   32]\n",
            " [  24 4260]]\n",
            "\n",
            "\n",
            "Model: Random Forest\n",
            "Accuracy: 0.9984\n",
            "Precision: 0.9984\n",
            "Recall: 0.9984\n",
            "F1-score: 0.9984\n",
            "ROC-AUC: 0.9999\n",
            "Confusion Matrix:\n",
            "[[4689    7]\n",
            " [   7 4277]]\n",
            "\n",
            "\n",
            "Model: Decision Tree\n",
            "Accuracy: 0.9957\n",
            "Precision: 0.9937\n",
            "Recall: 0.9972\n",
            "F1-score: 0.9955\n",
            "ROC-AUC: 0.9952\n",
            "Confusion Matrix:\n",
            "[[4669   27]\n",
            " [  12 4272]]\n",
            "\n",
            "\n",
            "Model: Gradient Boosting\n",
            "Accuracy: 0.9960\n",
            "Precision: 0.9949\n",
            "Recall: 0.9967\n",
            "F1-score: 0.9958\n",
            "ROC-AUC: 0.9990\n",
            "Confusion Matrix:\n",
            "[[4674   22]\n",
            " [  14 4270]]\n",
            "\n",
            "\n"
          ]
        }
      ],
      "source": [
        "from sklearn.metrics import accuracy_score, precision_score, recall_score, f1_score, roc_auc_score, confusion_matrix, roc_curve, auc\n",
        "import matplotlib.pyplot as plt\n",
        "import seaborn as sns\n",
        "\n",
        "def evaluate_model(model, X_test, y_test):\n",
        "    y_pred = model.predict(X_test)\n",
        "    accuracy = accuracy_score(y_test, y_pred)\n",
        "    precision = precision_score(y_test, y_pred)\n",
        "    recall = recall_score(y_test, y_pred)\n",
        "    f1 = f1_score(y_test, y_pred)\n",
        "    roc_auc = roc_auc_score(y_test, model.predict_proba(X_test)[:, 1])\n",
        "    cm = confusion_matrix(y_test, y_pred)\n",
        "\n",
        "    return accuracy, precision, recall, f1, roc_auc, cm\n",
        "\n",
        "# Evaluate each model\n",
        "models = {'Logistic Regression': log_reg_best,\n",
        "          'Random Forest': rf_best,\n",
        "          'Decision Tree': dt_best,\n",
        "          'Gradient Boosting': gb_best}\n",
        "\n",
        "results = {}\n",
        "\n",
        "for model_name, model in models.items():\n",
        "    accuracy, precision, recall, f1, roc_auc, cm = evaluate_model(model, X_test_tfidf, y_test)\n",
        "    results[model_name] = {\n",
        "        'Accuracy': accuracy,\n",
        "        'Precision': precision,\n",
        "        'Recall': recall,\n",
        "        'F1-score': f1,\n",
        "        'ROC-AUC': roc_auc,\n",
        "        'Confusion Matrix': cm\n",
        "    }\n",
        "\n",
        "# Print evaluation metrics\n",
        "for model_name, metrics in results.items():\n",
        "    print(f\"Model: {model_name}\")\n",
        "    print(f\"Accuracy: {metrics['Accuracy']:.4f}\")\n",
        "    print(f\"Precision: {metrics['Precision']:.4f}\")\n",
        "    print(f\"Recall: {metrics['Recall']:.4f}\")\n",
        "    print(f\"F1-score: {metrics['F1-score']:.4f}\")\n",
        "    print(f\"ROC-AUC: {metrics['ROC-AUC']:.4f}\")\n",
        "    print(\"Confusion Matrix:\")\n",
        "    print(metrics['Confusion Matrix'])\n",
        "    print(\"\\n\")\n"
      ]
    },
    {
      "cell_type": "code",
      "execution_count": null,
      "id": "2789aefb-f0c0-4c15-9dd6-950efb53532c",
      "metadata": {
        "id": "2789aefb-f0c0-4c15-9dd6-950efb53532c",
        "outputId": "25a1b218-5d0f-4e36-e2e7-daac8c91e9e5"
      },
      "outputs": [
        {
          "data": {
            "image/png": "[encoded data removed]",
            "text/plain": [
              "<Figure size 1000x800 with 1 Axes>"
            ]
          },
          "metadata": {},
          "output_type": "display_data"
        }
      ],
      "source": [
        "# Plot ROC curves for each model\n",
        "plt.figure(figsize=(10, 8))\n",
        "\n",
        "for model_name, model in models.items():\n",
        "    y_pred_proba = model.predict_proba(X_test_tfidf)[:, 1]\n",
        "    fpr, tpr, _ = roc_curve(y_test, y_pred_proba)\n",
        "    roc_auc = auc(fpr, tpr)\n",
        "    plt.plot(fpr, tpr, label=f'{model_name} (AUC = {roc_auc:.2f})')\n",
        "\n",
        "plt.plot([0, 1], [0, 1], 'k--')\n",
        "plt.xlim([0.0, 1.0])\n",
        "plt.ylim([0.0, 1.05])\n",
        "plt.xlabel('False Positive Rate')\n",
        "plt.ylabel('True Positive Rate')\n",
        "plt.title('ROC Curves')\n",
        "plt.legend(loc='lower right')\n",
        "plt.show()\n"
      ]
    },
    {
      "cell_type": "markdown",
      "id": "4197a91f-8d9b-4d71-ad6f-57ecfa8243aa",
      "metadata": {
        "id": "4197a91f-8d9b-4d71-ad6f-57ecfa8243aa"
      },
      "source": [
        "##### This ROC curve demonstrates that all four models (Logistic Regression, Random Forest, Decision Tree, and Gradient Boosting) are performing perfectly on the given dataset, with an AUC of 1.00, indicating that they all have perfect classification abilities on this specific dataset. This could be a sign of overfitting, where the models perform exceptionally well on the training/testing data but may not generalize to new, unseen data."
      ]
    },
    {
      "cell_type": "code",
      "execution_count": null,
      "id": "4b27773b-ac1c-452f-9035-abff74f0982b",
      "metadata": {
        "id": "4b27773b-ac1c-452f-9035-abff74f0982b",
        "outputId": "b0e7e559-52c3-4e4a-f233-a11658064309"
      },
      "outputs": [
        {
          "data": {
            "image/png": "[encoded data removed]",
            "text/plain": [
              "<Figure size 1400x1000 with 8 Axes>"
            ]
          },
          "metadata": {},
          "output_type": "display_data"
        }
      ],
      "source": [
        "# Visualize confusion matrices for each model\n",
        "fig, axes = plt.subplots(2, 2, figsize=(14, 10))\n",
        "\n",
        "for ax, (model_name, metrics) in zip(axes.flatten(), results.items()):\n",
        "    sns.heatmap(metrics['Confusion Matrix'], annot=True, fmt='d', ax=ax, cmap='Blues')\n",
        "    ax.set_title(f'{model_name} Confusion Matrix')\n",
        "    ax.set_xlabel('Predicted Label')\n",
        "    ax.set_ylabel('True Label')\n",
        "\n",
        "plt.tight_layout()\n",
        "plt.show()\n"
      ]
    },
    {
      "cell_type": "code",
      "execution_count": null,
      "id": "9490d45f-9e14-4fb1-976c-09258de757e6",
      "metadata": {
        "id": "9490d45f-9e14-4fb1-976c-09258de757e6"
      },
      "outputs": [],
      "source": []
    }
  ],
  "metadata": {
    "kernelspec": {
      "display_name": "Python 3 (ipykernel)",
      "language": "python",
      "name": "python3"
    },
    "language_info": {
      "codemirror_mode": {
        "name": "ipython",
        "version": 3
      },
      "file_extension": ".py",
      "mimetype": "text/x-python",
      "name": "python",
      "nbconvert_exporter": "python",
      "pygments_lexer": "ipython3",
      "version": "3.12.4"
    },
    "colab": {
      "provenance": [],
      "include_colab_link": true
    }
  },
  "nbformat": 4,
  "nbformat_minor": 5
}
